{
 "cells": [
  {
   "cell_type": "code",
   "execution_count": 63,
   "metadata": {},
   "outputs": [
    {
     "name": "stdout",
     "output_type": "stream",
     "text": [
      "Writing CRAWLER.py\n"
     ]
    }
   ],
   "source": [
    "\n",
    "import pandas as pd\n",
    "import os\n",
    "from text_summarizer import FrequencySummarizer\n",
    "\n",
    "class Crawler:\n",
    "    def __init__(self):\n",
    "        self.run_crawler = True\n",
    "        command = \"scrapy runspider quotes_spider.py -o quotes.csv\"\n",
    "        os.system(command)\n",
    "        self.df=pd.DataFrame()\n",
    "    \n",
    "    def read_data(self):\n",
    "        self.df=pd.read_csv('quotes.csv')\n",
    "    \n",
    "    def summary(self,num_news):\n",
    "        news=\"\"\n",
    "        dic={}\n",
    "        df=self.df\n",
    "        for i in xrange(len (df)):\n",
    "            if df['text'][i] in dic:\n",
    "                continue\n",
    "            dic[df['text'][i]]=1\n",
    "            news=news+\" \"+(df['text'][i])\n",
    "\n",
    "        \n",
    "        fs = FrequencySummarizer()\n",
    "        final_summary = fs.summarize(news, num_news)\n",
    "\n",
    "        return final_summary\n",
    "\n",
    "def main():\n",
    "        crawler = Crawler()\n",
    "        crawler.read_data()\n",
    "        num_news = input(\"Enter the number of news pieces\")\n",
    "        print \"Summary: \"\n",
    "        print \"\\n\".join(crawler.summary(num_news))\n",
    "\n",
    "if __name__ == \"__main__\":\n",
    "    main()"
   ]
  },
  {
   "cell_type": "code",
   "execution_count": null,
   "metadata": {},
   "outputs": [],
   "source": []
  },
  {
   "cell_type": "code",
   "execution_count": null,
   "metadata": {},
   "outputs": [],
   "source": []
  },
  {
   "cell_type": "code",
   "execution_count": null,
   "metadata": {},
   "outputs": [],
   "source": []
  }
 ],
 "metadata": {
  "kernelspec": {
   "display_name": "Python 2",
   "language": "python",
   "name": "python2"
  },
  "language_info": {
   "codemirror_mode": {
    "name": "ipython",
    "version": 2
   },
   "file_extension": ".py",
   "mimetype": "text/x-python",
   "name": "python",
   "nbconvert_exporter": "python",
   "pygments_lexer": "ipython2",
   "version": "2.7.12"
  }
 },
 "nbformat": 4,
 "nbformat_minor": 2
}
